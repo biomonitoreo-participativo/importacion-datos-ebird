{
 "cells": [
  {
   "cell_type": "markdown",
   "metadata": {},
   "source": [
    "# Obtención de datos de eBird"
   ]
  },
  {
   "cell_type": "markdown",
   "metadata": {},
   "source": [
    "Se utiliza el [API de eBird](https://documenter.getpostman.com/view/664302/S1ENwy59) para consultar las observaciones realizadas en una lista de localidades y en un rango o una lista de fechas. El resultado se almacena en un archivo CSV.\n",
    "\n",
    "* La lista de localidades se obtiene de la lista de la página [Summarize my Observations](https://ebird.org/eBirdReports?cmd=reportSelected). La lista está inserta en el código HTML.\n",
    "* La lista de fechas se obtiene manualmente de la página [Manage my Checklists](https://ebird.org/eBirdReports?cmd=subReport)."
   ]
  },
  {
   "cell_type": "markdown",
   "metadata": {},
   "source": [
    "**Bibliotecas**"
   ]
  },
  {
   "cell_type": "code",
   "execution_count": null,
   "metadata": {},
   "outputs": [],
   "source": [
    "import pandas as pd\n",
    "import requests\n",
    "import time"
   ]
  },
  {
   "cell_type": "markdown",
   "metadata": {},
   "source": [
    "**Entradas**"
   ]
  },
  {
   "cell_type": "code",
   "execution_count": null,
   "metadata": {},
   "outputs": [],
   "source": [
    "# API key proporcionada por eBird en https://ebird.org/api/keygen\n",
    "api_key = 'api_key'\n",
    "\n",
    "# URL base de eBird API 2.0\n",
    "url_base_obs = 'https://ebird.org/ws2.0/data/obs/'\n",
    "\n",
    "# Parámetros de la solicitud (request parameters)\n",
    "request_parms = '?detail=full&includeProvisional=true&key=' + api_key\n",
    "\n",
    "# Nombre y ruta del archivo CSV de salida\n",
    "output_file = \"observaciones.csv\""
   ]
  },
  {
   "cell_type": "code",
   "execution_count": null,
   "metadata": {},
   "outputs": [],
   "source": [
    "# Diccionario de hostspots (la lista completa está en https://ebird.org/hotspots)\n",
    "hotspot_dict = {\"L9994433\":\"242, Pérez Zeledón CR-San José (9,4609,-83,6033)\",\n",
    "                \"L9892128\":\"Altamira De Volcán-Aprocome. Provincia de Puntarenas, CR (9,277, -83,46)\",\n",
    "                \"L9804409\":\"Altamira de Biolley\",\n",
    "                \"L10137493\":\"Aprocome-Altamira, Provincia de Puntarenas, CR (9,272, -83,464)\",\n",
    "                \"L9804364\":\"Biolley, Provincia de Puntarenas, CR (9,034, -83,042)\",\n",
    "                \"L10192314\":\"Cabagra 24 nov. 2019 10:24 a.m. 9,133, -83,167\",\n",
    "                \"L9947554\":\"Cabagra, Provincia de Puntarenas, CR (9,135, -83,194)\",\n",
    "                \"L10021682\":\"Carretera Interamericana, km 103  San José, CR (9,534, -83,705)\",\n",
    "                \"L10201765\":\"Casa De EstevanSan José, CR (9.43, -83.843)\",\n",
    "                \"L10179850\":\"Chánguena - Langusiana, Provincia de Puntarenas, CR (8,938, -83,201)\",\n",
    "                \"L9971543\":\"División, San José, CR (9,494, -83,721)\",\n",
    "                \"L9833781\":\"El Jardín de Cerro Bella Vista\",\n",
    "                \"L10015175\":\"Finca 3, Los Ángeles De Páramo San José, CR (9,478, -83,798)\",\n",
    "                \"L9915246\":\"Finca Asana (Fila Costera Uvita)\",\n",
    "                \"L10201770\":\"Finca De Esteban, San José, CR (9.43, -83.843)\",\n",
    "                \"L10202342\":\"Finca Esteban San José, CR (9,43, -83,843)\",\n",
    "                \"L10057681\":\"Finca Seis Ancestros 20 oct. 2019 10:16 a.m. 9,531, -83,714\",\n",
    "                \"L10057685\":\"Finca Seis Ancestros 20 oct. 2019 10:16 a.m. 9,531, -83,714\",\n",
    "                \"L10201762\":\"Finca de Esteban, San José, CR (9,43, -83,843)\",\n",
    "                \"L9804267\":\"Guadalajara de Brunka\",\n",
    "                \"L9943280\":\"Hamacas, CR (8,994, -82,997)\",\n",
    "                \"L10052660\":\"Herradura-Rivas, CR (9,475, -83,611)\",\n",
    "                \"L9833814\":\"La Luchita de Potrero Grande\",\n",
    "                \"L10015199\":\"Las Torres Cerro de La Muerte, Provincia de Cartago, CR (9,604, -83,767)\",\n",
    "                \"L9743130\":\"Los Ángeles de Páramo, San José, CR (9,479, -83,801)\",\n",
    "                \"L10001182\":\"Reserva Río Blanco\",\n",
    "                \"L10040616\":\"Reserva Río Blanco, Rivas, San José, CR (9,488, -83,612)\",\n",
    "                \"L9657857\":\"Ruta 242 San Gerardo, Rivas, San José, CR (9,463, -83,6)\",\n",
    "                \"L10174042\":\"Ruta 242 San Gerardo, Rivas, San José, CR (9,464, -83,601)\",\n",
    "                \"L10098517\":\"Ruta 242 San Gerardo, Rivas, San José, CR (9,468, -83,592)\",\n",
    "                \"L10105106\":\"Ruta 242 San Gerardo, Rivas, San José, CR (9,469, -83,592)\",\n",
    "                \"L9684889\":\"San Jerónimo, San José, CR (9,341, -83,504)\",\n",
    "                \"L9911310\":\"Santa María de Brunka\",\n",
    "                \"L10052638\":\"Santa Rosa, Provincia de Puntarenas, CR (9,251, -83,38)\",\n",
    "                \"L9684896\":\"Savegre Abajo San José, CR (9,43, -83,843)\",\n",
    "                \"L10201764\":\"Savegre Ecolodge San José, CR (9,43, -83,843)\",\n",
    "                \"L10052622\":\"Sendero APROCOME, Provincia de Puntarenas, CR (9,277, -83,461)\",\n",
    "                \"L9804285\":\"Sendero Chirripó Km 4 (9,467, -83,566)\",\n",
    "                \"L9684847\":\"Siberia\",\n",
    "                \"L10187042\":\"Siberia Camino Viejo, San José, CR (9,541, -83,721)\",\n",
    "                \"L9947579\":\"Tres Colinas, Provincia de Puntarenas, CR (9,12, -83,068)\",\n",
    "                \"L10192378\":\"Unnamed Road, División, San José, CR (9.501, -83.694)\"}\n",
    "\n",
    "# Rango de fechas\n",
    "start_date = pd.Timestamp('20190716')\n",
    "end_date = pd.Timestamp('20190720')\n",
    "num_days = (end_date - start_date).days + 1\n",
    "rng = pd.date_range(start_date, periods=num_days, freq='D')\n",
    "\n",
    "# Lista de fechas\n",
    "dates = [pd.Timestamp(\"20190716\"),\n",
    "         pd.Timestamp(\"20190717\"),\n",
    "         pd.Timestamp(\"20190720\"),\n",
    "         pd.Timestamp(\"20190721\"),\n",
    "         pd.Timestamp(\"20190727\"),\n",
    "         pd.Timestamp(\"20190803\"),\n",
    "         pd.Timestamp(\"20190804\"),         \n",
    "         pd.Timestamp(\"20190806\"),         \n",
    "         pd.Timestamp(\"20190810\"),         \n",
    "         pd.Timestamp(\"20190816\"),         \n",
    "         pd.Timestamp(\"20190823\"),         \n",
    "         pd.Timestamp(\"20190824\"),         \n",
    "         pd.Timestamp(\"20190827\"),                  \n",
    "         pd.Timestamp(\"20190831\"),                  \n",
    "         pd.Timestamp(\"20190901\"),                           \n",
    "         pd.Timestamp(\"20190907\"),                           \n",
    "         pd.Timestamp(\"20190908\"),                                    \n",
    "         pd.Timestamp(\"20190914\"),\n",
    "         pd.Timestamp(\"20190921\"),\n",
    "         pd.Timestamp(\"20190922\"),\n",
    "         pd.Timestamp(\"20190929\"),\n",
    "         pd.Timestamp(\"20191005\"),\n",
    "         pd.Timestamp(\"20191006\"),\n",
    "         pd.Timestamp(\"20191010\"),\n",
    "         pd.Timestamp(\"20191012\"),                                    \n",
    "         pd.Timestamp(\"20191013\"),\n",
    "         pd.Timestamp(\"20191016\"),                                             \n",
    "         pd.Timestamp(\"20191018\"),                                             \n",
    "         pd.Timestamp(\"20191019\"),                                             \n",
    "         pd.Timestamp(\"20191020\"),\n",
    "         pd.Timestamp(\"20191031\"),                                             \n",
    "         pd.Timestamp(\"20191102\"),                                             \n",
    "         pd.Timestamp(\"20191109\"),\n",
    "         pd.Timestamp(\"20191110\"),\n",
    "         pd.Timestamp(\"20191117\"),\n",
    "         pd.Timestamp(\"20191119\"),\n",
    "         pd.Timestamp(\"20191121\"),\n",
    "         pd.Timestamp(\"20191123\"),\n",
    "         pd.Timestamp(\"20191124\"),\n",
    "         pd.Timestamp(\"20191125\"),\n",
    "         pd.Timestamp(\"20191126\")]"
   ]
  },
  {
   "cell_type": "markdown",
   "metadata": {},
   "source": [
    "**Procesamiento**"
   ]
  },
  {
   "cell_type": "code",
   "execution_count": null,
   "metadata": {},
   "outputs": [],
   "source": [
    "# Lista de diccionarios con datos de observaciones\n",
    "observations_list = []\n",
    "\n",
    "# Recorrido de la lista de hotspots y del rango o la lista de fechas\n",
    "for hotspot in hotspot_dict:\n",
    "    for d in dates:\n",
    "        time.sleep(0.5) # time delay\n",
    "        ymd = '{}/{}/{}'.format(d.year, d.month, d.day)\n",
    "        # Se construye el URL\n",
    "        url_obs = url_base_obs + hotspot + '/historic/' + ymd + request_parms\n",
    "        print(url_obs)\n",
    "        # Se obtienen las observaciones de un hotspot específico en un día específico\n",
    "        obs = requests.get(url_obs)\n",
    "        # Se añaden las nuevas observaciones a la lista general\n",
    "        observations_list.extend(obs.json())\n",
    "\n",
    "# Se convierte la lista de diccionarios a un dataframe de Pandas\n",
    "observations_df = pd.DataFrame(observations_list)"
   ]
  },
  {
   "cell_type": "markdown",
   "metadata": {},
   "source": [
    "**Salidas**"
   ]
  },
  {
   "cell_type": "code",
   "execution_count": null,
   "metadata": {},
   "outputs": [],
   "source": [
    "# Se imprime la estructura del dataframe\n",
    "print(observations_df.info())"
   ]
  },
  {
   "cell_type": "code",
   "execution_count": null,
   "metadata": {},
   "outputs": [],
   "source": [
    "# Se imprimen los primeros registros\n",
    "observations_df.head()"
   ]
  },
  {
   "cell_type": "code",
   "execution_count": null,
   "metadata": {},
   "outputs": [],
   "source": [
    "# Se exporta el dataframe a un archivo CSV\n",
    "observations_df.to_csv(output_file, index=False)"
   ]
  },
  {
   "cell_type": "code",
   "execution_count": null,
   "metadata": {},
   "outputs": [],
   "source": []
  }
 ],
 "metadata": {
  "kernelspec": {
   "display_name": "Python 3",
   "language": "python",
   "name": "python3"
  },
  "language_info": {
   "codemirror_mode": {
    "name": "ipython",
    "version": 3
   },
   "file_extension": ".py",
   "mimetype": "text/x-python",
   "name": "python",
   "nbconvert_exporter": "python",
   "pygments_lexer": "ipython3",
   "version": "3.7.3"
  }
 },
 "nbformat": 4,
 "nbformat_minor": 2
}
